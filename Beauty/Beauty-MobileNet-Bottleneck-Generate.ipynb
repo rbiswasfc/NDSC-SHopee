{
 "cells": [
  {
   "cell_type": "code",
   "execution_count": 18,
   "metadata": {},
   "outputs": [],
   "source": [
    "# Load basic libraries\n",
    "import numpy as np\n",
    "import pandas as pd\n",
    "import os\n",
    "import sys\n",
    "%matplotlib inline\n",
    "\n",
    "# Load Keras Libraries\n",
    "import tensorflow as tf\n",
    "from keras_preprocessing.image import ImageDataGenerator\n",
    "from keras.models import Sequential, Model\n",
    "from keras.layers import Conv2D, MaxPooling2D, GlobalAveragePooling2D\n",
    "from keras.layers import Activation, Dropout, Flatten, Dense\n",
    "from keras.layers import Input\n",
    "from keras import applications\n",
    "from keras import optimizers\n",
    "from keras import backend as K\n",
    "from keras.layers.normalization import BatchNormalization\n",
    "\n",
    "from sklearn.utils import shuffle"
   ]
  },
  {
   "cell_type": "code",
   "execution_count": 2,
   "metadata": {},
   "outputs": [],
   "source": [
    "# Load train-test data\n",
    "train_data = pd.read_csv('../train.csv')\n",
    "test_data = pd.read_csv('../test.csv')"
   ]
  },
  {
   "cell_type": "code",
   "execution_count": 3,
   "metadata": {},
   "outputs": [
    {
     "name": "stdout",
     "output_type": "stream",
     "text": [
      "The top level categories are: ['Mobile', 'Fashion', 'Beauty']\n",
      "There are 27 categories in Mobile\n",
      "There are 14 categories in Fashion\n",
      "There are 17 categories in Beauty\n"
     ]
    }
   ],
   "source": [
    "# categories: naming \n",
    "import json\n",
    "with open('../categories.json','r') as f:\n",
    "    allCat = json.load(f)\n",
    "print('The top level categories are: {}'.format(list(allCat.keys())))\n",
    "\n",
    "\n",
    "print('There are {} categories in Mobile'.format(len(allCat['Mobile'])))\n",
    "print('There are {} categories in Fashion'.format(len(allCat['Fashion'])))\n",
    "print('There are {} categories in Beauty'.format(len(allCat['Beauty'])))\n",
    "\n",
    "mobCat = sorted(list(allCat['Mobile'].values()))\n",
    "fasCat = sorted(list(allCat['Fashion'].values()))\n",
    "beuCat = sorted(list(allCat['Beauty'].values()))\n",
    "\n",
    "folder_path_dict = {i:'Mobile' for i in mobCat}\n",
    "folder_path_dict.update({i:'Fashion' for i in fasCat})\n",
    "folder_path_dict.update({i:'Beauty' for i in beuCat})\n",
    "\n",
    "##\n",
    "numerical2label = {}\n",
    "labels = allCat\n",
    "\n",
    "for master_label in labels.keys():\n",
    "    master_dict = labels[master_label]\n",
    "    for item_name, item_idx in master_dict.items():\n",
    "        numerical2label[item_idx] = item_name\n",
    "        \n",
    "label2numerical = {}\n",
    "for item_idx, item_name in numerical2label.items():\n",
    "    label2numerical[item_name] = item_idx"
   ]
  },
  {
   "cell_type": "code",
   "execution_count": 4,
   "metadata": {},
   "outputs": [],
   "source": [
    "# update file paths accordingly in train_df\n",
    "train_df = train_data.copy()\n",
    "\n",
    "def update_file_path(inp):\n",
    "    #print(inp)\n",
    "    x = inp[0]\n",
    "    cat = inp[1]\n",
    "    path_segs = x.split('/')\n",
    "    \n",
    "    path_map = {'beauty_image':'Beauty', 'fashion_image':'Fashion', 'mobile_image':'Mobile'}\n",
    "    base_path = 'Train/' + path_map[path_segs[0]]\n",
    "    rel_path = path_segs[1]\n",
    "    rel_segs = rel_path.split('.')\n",
    "    if len(rel_segs) == 1:\n",
    "        rel_path = rel_path + '.jpg'\n",
    "    return base_path + '/' + str(cat)+ '/' + rel_path\n",
    "\n",
    "train_df['new_path'] = train_df.loc[:,['image_path','Category']].apply(lambda x: update_file_path(x),axis=1)\n",
    "train_df['meta_cat'] = train_df.loc[:,'image_path'].apply(lambda x: x.split('/')[0])  "
   ]
  },
  {
   "cell_type": "code",
   "execution_count": 5,
   "metadata": {},
   "outputs": [
    {
     "data": {
      "text/plain": [
       "(286583, 6)"
      ]
     },
     "execution_count": 5,
     "metadata": {},
     "output_type": "execute_result"
    }
   ],
   "source": [
    "# Lood data for mobile categories (CHANGE here for other categories)\n",
    "train_byCat = train_df.groupby('meta_cat')\n",
    "cur_cat = 'beauty_image'\n",
    "cat_train = train_byCat.get_group(cur_cat)\n",
    "cat_train.shape"
   ]
  },
  {
   "cell_type": "code",
   "execution_count": 6,
   "metadata": {},
   "outputs": [],
   "source": [
    "# dimensions of our images.\n",
    "img_width, img_height = 128, 128\n",
    "\n",
    "# input shape\n",
    "if K.image_data_format() == 'channels_first':\n",
    "    input_shape = (3, img_width, img_height)\n",
    "else:\n",
    "    input_shape = (img_width, img_height, 3)"
   ]
  },
  {
   "cell_type": "code",
   "execution_count": 8,
   "metadata": {},
   "outputs": [],
   "source": [
    "# Mobile-Net Model"
   ]
  },
  {
   "cell_type": "code",
   "execution_count": 7,
   "metadata": {},
   "outputs": [],
   "source": [
    "base_model = applications.MobileNet(weights='imagenet', include_top=False, \n",
    "                                        input_shape=input_shape)"
   ]
  },
  {
   "cell_type": "code",
   "execution_count": 8,
   "metadata": {},
   "outputs": [],
   "source": [
    "## Model\n",
    "last_layer = base_model.output\n",
    "neck = GlobalAveragePooling2D()(last_layer)\n",
    "\n",
    "# Base Mobilenet   Model\n",
    "model = Model(inputs=base_model.input, outputs=neck)"
   ]
  },
  {
   "cell_type": "code",
   "execution_count": 9,
   "metadata": {},
   "outputs": [],
   "source": [
    "datagen = ImageDataGenerator(rescale=1. / 255)\n",
    "base_dir = '/mnt/disks/NDSC'"
   ]
  },
  {
   "cell_type": "code",
   "execution_count": 10,
   "metadata": {},
   "outputs": [
    {
     "name": "stdout",
     "output_type": "stream",
     "text": [
      "Found 286583 validated image filenames.\n"
     ]
    }
   ],
   "source": [
    "# Generator-1\n",
    "batch_size = 50\n",
    "generator = datagen.flow_from_dataframe(\n",
    "        dataframe=cat_train,\n",
    "        directory=base_dir,\n",
    "        x_col=\"new_path\",\n",
    "        y_col= None,\n",
    "        target_size=(img_width, img_height),\n",
    "        batch_size=batch_size,\n",
    "        seed=42,\n",
    "        class_mode=None,\n",
    "        shuffle=False)"
   ]
  },
  {
   "cell_type": "code",
   "execution_count": 11,
   "metadata": {},
   "outputs": [
    {
     "name": "stdout",
     "output_type": "stream",
     "text": [
      "5731/5731 [==============================] - 6006s 1s/step\n"
     ]
    }
   ],
   "source": [
    "# Generate features for train samples\n",
    "num_samples = generator.n\n",
    "generator.reset()\n",
    "\n",
    "bottleneck_features_beauty = model.predict_generator(\n",
    "        generator, num_samples // batch_size, verbose=1, use_multiprocessing=False)"
   ]
  },
  {
   "cell_type": "code",
   "execution_count": 12,
   "metadata": {},
   "outputs": [],
   "source": [
    "with open('Beauty_bottleneck_part_1.npy', 'wb') as f:\n",
    "    np.save(f, bottleneck_features_beauty)"
   ]
  },
  {
   "cell_type": "code",
   "execution_count": 13,
   "metadata": {},
   "outputs": [
    {
     "data": {
      "text/plain": [
       "33"
      ]
     },
     "execution_count": 13,
     "metadata": {},
     "output_type": "execute_result"
    }
   ],
   "source": [
    "N_rem = len(cat_train)-len(bottleneck_features_beauty)\n",
    "N_rem"
   ]
  },
  {
   "cell_type": "code",
   "execution_count": 14,
   "metadata": {},
   "outputs": [
    {
     "data": {
      "text/html": [
       "<div>\n",
       "<style scoped>\n",
       "    .dataframe tbody tr th:only-of-type {\n",
       "        vertical-align: middle;\n",
       "    }\n",
       "\n",
       "    .dataframe tbody tr th {\n",
       "        vertical-align: top;\n",
       "    }\n",
       "\n",
       "    .dataframe thead th {\n",
       "        text-align: right;\n",
       "    }\n",
       "</style>\n",
       "<table border=\"1\" class=\"dataframe\">\n",
       "  <thead>\n",
       "    <tr style=\"text-align: right;\">\n",
       "      <th></th>\n",
       "      <th>itemid</th>\n",
       "      <th>title</th>\n",
       "      <th>Category</th>\n",
       "      <th>image_path</th>\n",
       "      <th>new_path</th>\n",
       "      <th>meta_cat</th>\n",
       "    </tr>\n",
       "  </thead>\n",
       "  <tbody>\n",
       "    <tr>\n",
       "      <th>286550</th>\n",
       "      <td>2544385</td>\n",
       "      <td>nyx soft matte lip cream smlc 18 prague</td>\n",
       "      <td>12</td>\n",
       "      <td>beauty_image/d543c41f22223eb568b44f1793346ca6.jpg</td>\n",
       "      <td>Train/Beauty/12/d543c41f22223eb568b44f1793346c...</td>\n",
       "      <td>beauty_image</td>\n",
       "    </tr>\n",
       "    <tr>\n",
       "      <th>286551</th>\n",
       "      <td>3307364</td>\n",
       "      <td>tony moly magic food banana cream foam cleanser</td>\n",
       "      <td>13</td>\n",
       "      <td>beauty_image/d51c8d3f9164072f359bc87223b1ede3.jpg</td>\n",
       "      <td>Train/Beauty/13/d51c8d3f9164072f359bc87223b1ed...</td>\n",
       "      <td>beauty_image</td>\n",
       "    </tr>\n",
       "    <tr>\n",
       "      <th>286552</th>\n",
       "      <td>3458065</td>\n",
       "      <td>nyx soft matte lip cream original usa 100</td>\n",
       "      <td>12</td>\n",
       "      <td>beauty_image/2ed542b380c88ae5dd210b15a5ae0107.jpg</td>\n",
       "      <td>Train/Beauty/12/2ed542b380c88ae5dd210b15a5ae01...</td>\n",
       "      <td>beauty_image</td>\n",
       "    </tr>\n",
       "    <tr>\n",
       "      <th>286553</th>\n",
       "      <td>5266506</td>\n",
       "      <td>the balm how bout them apples</td>\n",
       "      <td>12</td>\n",
       "      <td>beauty_image/2927984662957ce774bdbff0686c5965.jpg</td>\n",
       "      <td>Train/Beauty/12/2927984662957ce774bdbff0686c59...</td>\n",
       "      <td>beauty_image</td>\n",
       "    </tr>\n",
       "    <tr>\n",
       "      <th>286554</th>\n",
       "      <td>5404353</td>\n",
       "      <td>skinfood water color tint pilih warna</td>\n",
       "      <td>12</td>\n",
       "      <td>beauty_image/836acff8f697a00dd5e411a1fa70217e.jpg</td>\n",
       "      <td>Train/Beauty/12/836acff8f697a00dd5e411a1fa7021...</td>\n",
       "      <td>beauty_image</td>\n",
       "    </tr>\n",
       "    <tr>\n",
       "      <th>286555</th>\n",
       "      <td>5534803</td>\n",
       "      <td>tony moly natural green handcream moringa</td>\n",
       "      <td>13</td>\n",
       "      <td>beauty_image/66ff3cb3a885969c4d5237af7f398c27.jpg</td>\n",
       "      <td>Train/Beauty/13/66ff3cb3a885969c4d5237af7f398c...</td>\n",
       "      <td>beauty_image</td>\n",
       "    </tr>\n",
       "    <tr>\n",
       "      <th>286556</th>\n",
       "      <td>5708831</td>\n",
       "      <td>nyx soft matte lip cream</td>\n",
       "      <td>12</td>\n",
       "      <td>beauty_image/b10f28a3c64ff40e3cbef905c80c5062.jpg</td>\n",
       "      <td>Train/Beauty/12/b10f28a3c64ff40e3cbef905c80c50...</td>\n",
       "      <td>beauty_image</td>\n",
       "    </tr>\n",
       "    <tr>\n",
       "      <th>286557</th>\n",
       "      <td>5756426</td>\n",
       "      <td>nyx soft matte lip cream smlc21 transylvania 1...</td>\n",
       "      <td>13</td>\n",
       "      <td>beauty_image/63267c45822a6b8149546b50d360e276.jpg</td>\n",
       "      <td>Train/Beauty/13/63267c45822a6b8149546b50d360e2...</td>\n",
       "      <td>beauty_image</td>\n",
       "    </tr>\n",
       "    <tr>\n",
       "      <th>286558</th>\n",
       "      <td>6620800</td>\n",
       "      <td>nyx lip cream</td>\n",
       "      <td>12</td>\n",
       "      <td>beauty_image/6778bf2fec23be0052d1da20845745b0.jpg</td>\n",
       "      <td>Train/Beauty/12/6778bf2fec23be0052d1da20845745...</td>\n",
       "      <td>beauty_image</td>\n",
       "    </tr>\n",
       "    <tr>\n",
       "      <th>286559</th>\n",
       "      <td>8098574</td>\n",
       "      <td>clearance revlon lacquer balm</td>\n",
       "      <td>12</td>\n",
       "      <td>beauty_image/5188ccda182ccbb03436d4bc6a889a2c.jpg</td>\n",
       "      <td>Train/Beauty/12/5188ccda182ccbb03436d4bc6a889a...</td>\n",
       "      <td>beauty_image</td>\n",
       "    </tr>\n",
       "    <tr>\n",
       "      <th>286560</th>\n",
       "      <td>8557032</td>\n",
       "      <td>nyx soft matte lip cream cannes</td>\n",
       "      <td>12</td>\n",
       "      <td>beauty_image/9e54275c14a869e4ee84b29566f715bd.jpg</td>\n",
       "      <td>Train/Beauty/12/9e54275c14a869e4ee84b29566f715...</td>\n",
       "      <td>beauty_image</td>\n",
       "    </tr>\n",
       "    <tr>\n",
       "      <th>286561</th>\n",
       "      <td>9758665</td>\n",
       "      <td>missha x line friends limited edition lip balm...</td>\n",
       "      <td>13</td>\n",
       "      <td>beauty_image/5218ca16d28de4725eb63bd2d3d209c4.jpg</td>\n",
       "      <td>Train/Beauty/13/5218ca16d28de4725eb63bd2d3d209...</td>\n",
       "      <td>beauty_image</td>\n",
       "    </tr>\n",
       "    <tr>\n",
       "      <th>286562</th>\n",
       "      <td>12264709</td>\n",
       "      <td>nyx soft matte lip cream cannes</td>\n",
       "      <td>12</td>\n",
       "      <td>beauty_image/5f3608b164c363514cc68fc3e3810709.jpg</td>\n",
       "      <td>Train/Beauty/12/5f3608b164c363514cc68fc3e38107...</td>\n",
       "      <td>beauty_image</td>\n",
       "    </tr>\n",
       "    <tr>\n",
       "      <th>286563</th>\n",
       "      <td>12274191</td>\n",
       "      <td>nyx tutup runcing new black label matte lipgloss</td>\n",
       "      <td>12</td>\n",
       "      <td>beauty_image/60724cfd4b49c5618f2a07a990ae1150.jpg</td>\n",
       "      <td>Train/Beauty/12/60724cfd4b49c5618f2a07a990ae11...</td>\n",
       "      <td>beauty_image</td>\n",
       "    </tr>\n",
       "    <tr>\n",
       "      <th>286564</th>\n",
       "      <td>12473238</td>\n",
       "      <td>mineral botanica soft matte lip cream</td>\n",
       "      <td>12</td>\n",
       "      <td>beauty_image/7e23dec2e2e969080118d64f56114192.jpg</td>\n",
       "      <td>Train/Beauty/12/7e23dec2e2e969080118d64f561141...</td>\n",
       "      <td>beauty_image</td>\n",
       "    </tr>\n",
       "    <tr>\n",
       "      <th>286565</th>\n",
       "      <td>15655200</td>\n",
       "      <td>tonymoly panda s dream white hand cream sample...</td>\n",
       "      <td>13</td>\n",
       "      <td>beauty_image/9dbdf76a42a8e70467bed8146506d252.jpg</td>\n",
       "      <td>Train/Beauty/13/9dbdf76a42a8e70467bed8146506d2...</td>\n",
       "      <td>beauty_image</td>\n",
       "    </tr>\n",
       "    <tr>\n",
       "      <th>286566</th>\n",
       "      <td>22133911</td>\n",
       "      <td>sleek matte me birthday suit ultra smooth lip ...</td>\n",
       "      <td>12</td>\n",
       "      <td>beauty_image/1d3c133067a3f2009da51bd03a4cef27.jpg</td>\n",
       "      <td>Train/Beauty/12/1d3c133067a3f2009da51bd03a4cef...</td>\n",
       "      <td>beauty_image</td>\n",
       "    </tr>\n",
       "    <tr>\n",
       "      <th>286567</th>\n",
       "      <td>25356825</td>\n",
       "      <td>moodmatcher brown</td>\n",
       "      <td>12</td>\n",
       "      <td>beauty_image/4215bb02e3ff5054172662959de23088.jpg</td>\n",
       "      <td>Train/Beauty/12/4215bb02e3ff5054172662959de230...</td>\n",
       "      <td>beauty_image</td>\n",
       "    </tr>\n",
       "    <tr>\n",
       "      <th>286568</th>\n",
       "      <td>27074753</td>\n",
       "      <td>nyx matte lip cream</td>\n",
       "      <td>12</td>\n",
       "      <td>beauty_image/75f50230391ece6a98573d3d3007e759.jpg</td>\n",
       "      <td>Train/Beauty/12/75f50230391ece6a98573d3d3007e7...</td>\n",
       "      <td>beauty_image</td>\n",
       "    </tr>\n",
       "    <tr>\n",
       "      <th>286569</th>\n",
       "      <td>27670442</td>\n",
       "      <td>oriflame giordani gold iconic lipstick spf 15</td>\n",
       "      <td>12</td>\n",
       "      <td>beauty_image/9a26beaf9058ec1137f41eb4aa0c25a0.jpg</td>\n",
       "      <td>Train/Beauty/12/9a26beaf9058ec1137f41eb4aa0c25...</td>\n",
       "      <td>beauty_image</td>\n",
       "    </tr>\n",
       "    <tr>\n",
       "      <th>286570</th>\n",
       "      <td>28430649</td>\n",
       "      <td>wet n wild mega last matte lip smokin hot pink</td>\n",
       "      <td>12</td>\n",
       "      <td>beauty_image/a2495267810a9732e1c9cef0e5816502.jpg</td>\n",
       "      <td>Train/Beauty/12/a2495267810a9732e1c9cef0e58165...</td>\n",
       "      <td>beauty_image</td>\n",
       "    </tr>\n",
       "    <tr>\n",
       "      <th>286571</th>\n",
       "      <td>32326071</td>\n",
       "      <td>bourjois rounge velvet liquid lipstick</td>\n",
       "      <td>12</td>\n",
       "      <td>beauty_image/93f6d5c37e7a78ba7a0fa718bd41821d.jpg</td>\n",
       "      <td>Train/Beauty/12/93f6d5c37e7a78ba7a0fa718bd4182...</td>\n",
       "      <td>beauty_image</td>\n",
       "    </tr>\n",
       "    <tr>\n",
       "      <th>286572</th>\n",
       "      <td>35595718</td>\n",
       "      <td>la girl color balm tokyo orange</td>\n",
       "      <td>13</td>\n",
       "      <td>beauty_image/59490140bd9420a67831ca10e5c0ba0a.jpg</td>\n",
       "      <td>Train/Beauty/13/59490140bd9420a67831ca10e5c0ba...</td>\n",
       "      <td>beauty_image</td>\n",
       "    </tr>\n",
       "    <tr>\n",
       "      <th>286573</th>\n",
       "      <td>43903957</td>\n",
       "      <td>nyx lip cream soft mate lipstik</td>\n",
       "      <td>12</td>\n",
       "      <td>beauty_image/f220944554d0d8232f199cc06930539b.jpg</td>\n",
       "      <td>Train/Beauty/12/f220944554d0d8232f199cc0693053...</td>\n",
       "      <td>beauty_image</td>\n",
       "    </tr>\n",
       "    <tr>\n",
       "      <th>286574</th>\n",
       "      <td>46458682</td>\n",
       "      <td>nyx soft matte lip cream berlin</td>\n",
       "      <td>12</td>\n",
       "      <td>beauty_image/09c364882e2faa7152b2126c0cacfec1.jpg</td>\n",
       "      <td>Train/Beauty/12/09c364882e2faa7152b2126c0cacfe...</td>\n",
       "      <td>beauty_image</td>\n",
       "    </tr>\n",
       "    <tr>\n",
       "      <th>286575</th>\n",
       "      <td>48745686</td>\n",
       "      <td>maybelline vivid matte liquid free ongkir</td>\n",
       "      <td>12</td>\n",
       "      <td>beauty_image/7a6964e1d47045a1e59b932c57e20d5d.jpg</td>\n",
       "      <td>Train/Beauty/12/7a6964e1d47045a1e59b932c57e20d...</td>\n",
       "      <td>beauty_image</td>\n",
       "    </tr>\n",
       "    <tr>\n",
       "      <th>286576</th>\n",
       "      <td>49693817</td>\n",
       "      <td>anastasia beverly hills lip cream matte</td>\n",
       "      <td>12</td>\n",
       "      <td>beauty_image/e1cd805d9bf1543361e503e7c9d78e41.jpg</td>\n",
       "      <td>Train/Beauty/12/e1cd805d9bf1543361e503e7c9d78e...</td>\n",
       "      <td>beauty_image</td>\n",
       "    </tr>\n",
       "    <tr>\n",
       "      <th>286577</th>\n",
       "      <td>50398158</td>\n",
       "      <td>nyx soft matte lip cream 100 ori dijamin</td>\n",
       "      <td>12</td>\n",
       "      <td>beauty_image/254f3b9dc77ba8717aaaa0f3c768d209.jpg</td>\n",
       "      <td>Train/Beauty/12/254f3b9dc77ba8717aaaa0f3c768d2...</td>\n",
       "      <td>beauty_image</td>\n",
       "    </tr>\n",
       "    <tr>\n",
       "      <th>286578</th>\n",
       "      <td>54419350</td>\n",
       "      <td>inez luscious liquid lipstik</td>\n",
       "      <td>14</td>\n",
       "      <td>beauty_image/46d9c293ea7e6b4f3667947b26e56851.jpg</td>\n",
       "      <td>Train/Beauty/14/46d9c293ea7e6b4f3667947b26e568...</td>\n",
       "      <td>beauty_image</td>\n",
       "    </tr>\n",
       "    <tr>\n",
       "      <th>286579</th>\n",
       "      <td>54939323</td>\n",
       "      <td>bourjois rouge velvet in 09 happy nude year</td>\n",
       "      <td>12</td>\n",
       "      <td>beauty_image/919accae8618c2fefc6a39c4397753ef.jpg</td>\n",
       "      <td>Train/Beauty/12/919accae8618c2fefc6a39c4397753...</td>\n",
       "      <td>beauty_image</td>\n",
       "    </tr>\n",
       "    <tr>\n",
       "      <th>286580</th>\n",
       "      <td>61046653</td>\n",
       "      <td>tony moly delight tint mini red</td>\n",
       "      <td>13</td>\n",
       "      <td>beauty_image/9d926028d4195c44f1519d500f56937c.jpg</td>\n",
       "      <td>Train/Beauty/13/9d926028d4195c44f1519d500f5693...</td>\n",
       "      <td>beauty_image</td>\n",
       "    </tr>\n",
       "    <tr>\n",
       "      <th>286581</th>\n",
       "      <td>62094136</td>\n",
       "      <td>nyx soft matte lip cream smlc shade san paolo</td>\n",
       "      <td>12</td>\n",
       "      <td>beauty_image/a5873ed959e6feb9f24c27245f3ccfd0.jpg</td>\n",
       "      <td>Train/Beauty/12/a5873ed959e6feb9f24c27245f3ccf...</td>\n",
       "      <td>beauty_image</td>\n",
       "    </tr>\n",
       "    <tr>\n",
       "      <th>286582</th>\n",
       "      <td>62254551</td>\n",
       "      <td>liquid lipstick anastasia beverly hills matte ...</td>\n",
       "      <td>12</td>\n",
       "      <td>beauty_image/d0a42819ad6659a86976c0fe6380d3b5.jpg</td>\n",
       "      <td>Train/Beauty/12/d0a42819ad6659a86976c0fe6380d3...</td>\n",
       "      <td>beauty_image</td>\n",
       "    </tr>\n",
       "  </tbody>\n",
       "</table>\n",
       "</div>"
      ],
      "text/plain": [
       "          itemid                                              title  Category  \\\n",
       "286550   2544385            nyx soft matte lip cream smlc 18 prague        12   \n",
       "286551   3307364    tony moly magic food banana cream foam cleanser        13   \n",
       "286552   3458065          nyx soft matte lip cream original usa 100        12   \n",
       "286553   5266506                      the balm how bout them apples        12   \n",
       "286554   5404353              skinfood water color tint pilih warna        12   \n",
       "286555   5534803          tony moly natural green handcream moringa        13   \n",
       "286556   5708831                           nyx soft matte lip cream        12   \n",
       "286557   5756426  nyx soft matte lip cream smlc21 transylvania 1...        13   \n",
       "286558   6620800                                      nyx lip cream        12   \n",
       "286559   8098574                      clearance revlon lacquer balm        12   \n",
       "286560   8557032                    nyx soft matte lip cream cannes        12   \n",
       "286561   9758665  missha x line friends limited edition lip balm...        13   \n",
       "286562  12264709                    nyx soft matte lip cream cannes        12   \n",
       "286563  12274191   nyx tutup runcing new black label matte lipgloss        12   \n",
       "286564  12473238              mineral botanica soft matte lip cream        12   \n",
       "286565  15655200  tonymoly panda s dream white hand cream sample...        13   \n",
       "286566  22133911  sleek matte me birthday suit ultra smooth lip ...        12   \n",
       "286567  25356825                                  moodmatcher brown        12   \n",
       "286568  27074753                                nyx matte lip cream        12   \n",
       "286569  27670442      oriflame giordani gold iconic lipstick spf 15        12   \n",
       "286570  28430649     wet n wild mega last matte lip smokin hot pink        12   \n",
       "286571  32326071             bourjois rounge velvet liquid lipstick        12   \n",
       "286572  35595718                    la girl color balm tokyo orange        13   \n",
       "286573  43903957                    nyx lip cream soft mate lipstik        12   \n",
       "286574  46458682                    nyx soft matte lip cream berlin        12   \n",
       "286575  48745686          maybelline vivid matte liquid free ongkir        12   \n",
       "286576  49693817            anastasia beverly hills lip cream matte        12   \n",
       "286577  50398158           nyx soft matte lip cream 100 ori dijamin        12   \n",
       "286578  54419350                       inez luscious liquid lipstik        14   \n",
       "286579  54939323        bourjois rouge velvet in 09 happy nude year        12   \n",
       "286580  61046653                    tony moly delight tint mini red        13   \n",
       "286581  62094136      nyx soft matte lip cream smlc shade san paolo        12   \n",
       "286582  62254551  liquid lipstick anastasia beverly hills matte ...        12   \n",
       "\n",
       "                                               image_path  \\\n",
       "286550  beauty_image/d543c41f22223eb568b44f1793346ca6.jpg   \n",
       "286551  beauty_image/d51c8d3f9164072f359bc87223b1ede3.jpg   \n",
       "286552  beauty_image/2ed542b380c88ae5dd210b15a5ae0107.jpg   \n",
       "286553  beauty_image/2927984662957ce774bdbff0686c5965.jpg   \n",
       "286554  beauty_image/836acff8f697a00dd5e411a1fa70217e.jpg   \n",
       "286555  beauty_image/66ff3cb3a885969c4d5237af7f398c27.jpg   \n",
       "286556  beauty_image/b10f28a3c64ff40e3cbef905c80c5062.jpg   \n",
       "286557  beauty_image/63267c45822a6b8149546b50d360e276.jpg   \n",
       "286558  beauty_image/6778bf2fec23be0052d1da20845745b0.jpg   \n",
       "286559  beauty_image/5188ccda182ccbb03436d4bc6a889a2c.jpg   \n",
       "286560  beauty_image/9e54275c14a869e4ee84b29566f715bd.jpg   \n",
       "286561  beauty_image/5218ca16d28de4725eb63bd2d3d209c4.jpg   \n",
       "286562  beauty_image/5f3608b164c363514cc68fc3e3810709.jpg   \n",
       "286563  beauty_image/60724cfd4b49c5618f2a07a990ae1150.jpg   \n",
       "286564  beauty_image/7e23dec2e2e969080118d64f56114192.jpg   \n",
       "286565  beauty_image/9dbdf76a42a8e70467bed8146506d252.jpg   \n",
       "286566  beauty_image/1d3c133067a3f2009da51bd03a4cef27.jpg   \n",
       "286567  beauty_image/4215bb02e3ff5054172662959de23088.jpg   \n",
       "286568  beauty_image/75f50230391ece6a98573d3d3007e759.jpg   \n",
       "286569  beauty_image/9a26beaf9058ec1137f41eb4aa0c25a0.jpg   \n",
       "286570  beauty_image/a2495267810a9732e1c9cef0e5816502.jpg   \n",
       "286571  beauty_image/93f6d5c37e7a78ba7a0fa718bd41821d.jpg   \n",
       "286572  beauty_image/59490140bd9420a67831ca10e5c0ba0a.jpg   \n",
       "286573  beauty_image/f220944554d0d8232f199cc06930539b.jpg   \n",
       "286574  beauty_image/09c364882e2faa7152b2126c0cacfec1.jpg   \n",
       "286575  beauty_image/7a6964e1d47045a1e59b932c57e20d5d.jpg   \n",
       "286576  beauty_image/e1cd805d9bf1543361e503e7c9d78e41.jpg   \n",
       "286577  beauty_image/254f3b9dc77ba8717aaaa0f3c768d209.jpg   \n",
       "286578  beauty_image/46d9c293ea7e6b4f3667947b26e56851.jpg   \n",
       "286579  beauty_image/919accae8618c2fefc6a39c4397753ef.jpg   \n",
       "286580  beauty_image/9d926028d4195c44f1519d500f56937c.jpg   \n",
       "286581  beauty_image/a5873ed959e6feb9f24c27245f3ccfd0.jpg   \n",
       "286582  beauty_image/d0a42819ad6659a86976c0fe6380d3b5.jpg   \n",
       "\n",
       "                                                 new_path      meta_cat  \n",
       "286550  Train/Beauty/12/d543c41f22223eb568b44f1793346c...  beauty_image  \n",
       "286551  Train/Beauty/13/d51c8d3f9164072f359bc87223b1ed...  beauty_image  \n",
       "286552  Train/Beauty/12/2ed542b380c88ae5dd210b15a5ae01...  beauty_image  \n",
       "286553  Train/Beauty/12/2927984662957ce774bdbff0686c59...  beauty_image  \n",
       "286554  Train/Beauty/12/836acff8f697a00dd5e411a1fa7021...  beauty_image  \n",
       "286555  Train/Beauty/13/66ff3cb3a885969c4d5237af7f398c...  beauty_image  \n",
       "286556  Train/Beauty/12/b10f28a3c64ff40e3cbef905c80c50...  beauty_image  \n",
       "286557  Train/Beauty/13/63267c45822a6b8149546b50d360e2...  beauty_image  \n",
       "286558  Train/Beauty/12/6778bf2fec23be0052d1da20845745...  beauty_image  \n",
       "286559  Train/Beauty/12/5188ccda182ccbb03436d4bc6a889a...  beauty_image  \n",
       "286560  Train/Beauty/12/9e54275c14a869e4ee84b29566f715...  beauty_image  \n",
       "286561  Train/Beauty/13/5218ca16d28de4725eb63bd2d3d209...  beauty_image  \n",
       "286562  Train/Beauty/12/5f3608b164c363514cc68fc3e38107...  beauty_image  \n",
       "286563  Train/Beauty/12/60724cfd4b49c5618f2a07a990ae11...  beauty_image  \n",
       "286564  Train/Beauty/12/7e23dec2e2e969080118d64f561141...  beauty_image  \n",
       "286565  Train/Beauty/13/9dbdf76a42a8e70467bed8146506d2...  beauty_image  \n",
       "286566  Train/Beauty/12/1d3c133067a3f2009da51bd03a4cef...  beauty_image  \n",
       "286567  Train/Beauty/12/4215bb02e3ff5054172662959de230...  beauty_image  \n",
       "286568  Train/Beauty/12/75f50230391ece6a98573d3d3007e7...  beauty_image  \n",
       "286569  Train/Beauty/12/9a26beaf9058ec1137f41eb4aa0c25...  beauty_image  \n",
       "286570  Train/Beauty/12/a2495267810a9732e1c9cef0e58165...  beauty_image  \n",
       "286571  Train/Beauty/12/93f6d5c37e7a78ba7a0fa718bd4182...  beauty_image  \n",
       "286572  Train/Beauty/13/59490140bd9420a67831ca10e5c0ba...  beauty_image  \n",
       "286573  Train/Beauty/12/f220944554d0d8232f199cc0693053...  beauty_image  \n",
       "286574  Train/Beauty/12/09c364882e2faa7152b2126c0cacfe...  beauty_image  \n",
       "286575  Train/Beauty/12/7a6964e1d47045a1e59b932c57e20d...  beauty_image  \n",
       "286576  Train/Beauty/12/e1cd805d9bf1543361e503e7c9d78e...  beauty_image  \n",
       "286577  Train/Beauty/12/254f3b9dc77ba8717aaaa0f3c768d2...  beauty_image  \n",
       "286578  Train/Beauty/14/46d9c293ea7e6b4f3667947b26e568...  beauty_image  \n",
       "286579  Train/Beauty/12/919accae8618c2fefc6a39c4397753...  beauty_image  \n",
       "286580  Train/Beauty/13/9d926028d4195c44f1519d500f5693...  beauty_image  \n",
       "286581  Train/Beauty/12/a5873ed959e6feb9f24c27245f3ccf...  beauty_image  \n",
       "286582  Train/Beauty/12/d0a42819ad6659a86976c0fe6380d3...  beauty_image  "
      ]
     },
     "execution_count": 14,
     "metadata": {},
     "output_type": "execute_result"
    }
   ],
   "source": [
    "beu_rem = cat_train.tail(N_rem)\n",
    "beu_rem"
   ]
  },
  {
   "cell_type": "code",
   "execution_count": 15,
   "metadata": {},
   "outputs": [
    {
     "name": "stdout",
     "output_type": "stream",
     "text": [
      "Found 33 validated image filenames.\n"
     ]
    }
   ],
   "source": [
    "# Generator-1\n",
    "batch_size = 1\n",
    "generator_rem = datagen.flow_from_dataframe(\n",
    "        dataframe=beu_rem,\n",
    "        directory=base_dir,\n",
    "        x_col=\"new_path\",\n",
    "        y_col= None,\n",
    "        target_size=(img_width, img_height),\n",
    "        batch_size=batch_size,\n",
    "        seed=42,\n",
    "        class_mode=None,\n",
    "        shuffle=False)"
   ]
  },
  {
   "cell_type": "code",
   "execution_count": 16,
   "metadata": {},
   "outputs": [
    {
     "name": "stdout",
     "output_type": "stream",
     "text": [
      "33/33 [==============================] - 0s 14ms/step\n"
     ]
    }
   ],
   "source": [
    "num_samples_rem = generator_rem.n\n",
    "generator_rem.reset()\n",
    "\n",
    "bottleneck_features_beauty_rem = model.predict_generator(\n",
    "        generator_rem, num_samples_rem // batch_size, verbose=1, use_multiprocessing=False)"
   ]
  },
  {
   "cell_type": "code",
   "execution_count": 18,
   "metadata": {},
   "outputs": [
    {
     "data": {
      "text/plain": [
       "5.3103123"
      ]
     },
     "execution_count": 18,
     "metadata": {},
     "output_type": "execute_result"
    }
   ],
   "source": [
    "max(bottleneck_features_beauty_rem[1])"
   ]
  },
  {
   "cell_type": "code",
   "execution_count": 19,
   "metadata": {},
   "outputs": [
    {
     "data": {
      "text/plain": [
       "5.607791"
      ]
     },
     "execution_count": 19,
     "metadata": {},
     "output_type": "execute_result"
    }
   ],
   "source": [
    "max(bottleneck_features_beauty[0])"
   ]
  },
  {
   "cell_type": "code",
   "execution_count": 20,
   "metadata": {},
   "outputs": [
    {
     "data": {
      "text/plain": [
       "5.340643"
      ]
     },
     "execution_count": 20,
     "metadata": {},
     "output_type": "execute_result"
    }
   ],
   "source": [
    "max(bottleneck_features_beauty[-1])"
   ]
  },
  {
   "cell_type": "code",
   "execution_count": 21,
   "metadata": {},
   "outputs": [],
   "source": [
    "## Concatenate\n",
    "X_IMG_BEU_TRAIN = np.concatenate((bottleneck_features_beauty,bottleneck_features_beauty_rem), axis = 0)"
   ]
  },
  {
   "cell_type": "code",
   "execution_count": 22,
   "metadata": {},
   "outputs": [
    {
     "data": {
      "text/plain": [
       "(286583, 1024)"
      ]
     },
     "execution_count": 22,
     "metadata": {},
     "output_type": "execute_result"
    }
   ],
   "source": [
    "X_IMG_BEU_TRAIN.shape"
   ]
  },
  {
   "cell_type": "code",
   "execution_count": 23,
   "metadata": {},
   "outputs": [],
   "source": [
    "with open('X_IMG_BEU_TRAIN.npy', 'wb') as f:\n",
    "    np.save(f, X_IMG_BEU_TRAIN)"
   ]
  },
  {
   "cell_type": "code",
   "execution_count": 9,
   "metadata": {},
   "outputs": [],
   "source": [
    "with open('X_IMG_BEU_TRAIN.npy', 'rb') as f:\n",
    "    X_IMG_BEU_TRAIN= np.load(f)"
   ]
  },
  {
   "cell_type": "code",
   "execution_count": 10,
   "metadata": {},
   "outputs": [
    {
     "data": {
      "text/plain": [
       "5.954384"
      ]
     },
     "execution_count": 10,
     "metadata": {},
     "output_type": "execute_result"
    }
   ],
   "source": [
    "max(X_IMG_BEU_TRAIN[1])"
   ]
  },
  {
   "cell_type": "code",
   "execution_count": 11,
   "metadata": {},
   "outputs": [],
   "source": [
    "n_beu = X_IMG_BEU_TRAIN.shape[0]"
   ]
  },
  {
   "cell_type": "code",
   "execution_count": 13,
   "metadata": {},
   "outputs": [],
   "source": [
    "beu_y = cat_train.Category.values\n",
    "beu_targets = np.zeros((n_beu, 58))\n",
    "beu_targets[np.arange(n_beu), beu_y] = 1"
   ]
  },
  {
   "cell_type": "code",
   "execution_count": null,
   "metadata": {},
   "outputs": [],
   "source": [
    "## Model Fine tune"
   ]
  },
  {
   "cell_type": "code",
   "execution_count": 19,
   "metadata": {},
   "outputs": [
    {
     "name": "stdout",
     "output_type": "stream",
     "text": [
      "_________________________________________________________________\n",
      "Layer (type)                 Output Shape              Param #   \n",
      "=================================================================\n",
      "img_input (InputLayer)       (None, 1024)              0         \n",
      "_________________________________________________________________\n",
      "batch_normalization_1 (Batch (None, 1024)              4096      \n",
      "_________________________________________________________________\n",
      "dropout_4 (Dropout)          (None, 1024)              0         \n",
      "_________________________________________________________________\n",
      "fc-1 (Dense)                 (None, 1024)              1049600   \n",
      "_________________________________________________________________\n",
      "dropout_5 (Dropout)          (None, 1024)              0         \n",
      "_________________________________________________________________\n",
      "dense_2 (Dense)              (None, 512)               524800    \n",
      "_________________________________________________________________\n",
      "dropout_6 (Dropout)          (None, 512)               0         \n",
      "_________________________________________________________________\n",
      "out_layer (Dense)            (None, 58)                29754     \n",
      "=================================================================\n",
      "Total params: 1,608,250\n",
      "Trainable params: 1,606,202\n",
      "Non-trainable params: 2,048\n",
      "_________________________________________________________________\n"
     ]
    }
   ],
   "source": [
    "# Beauty model (Quick Check)\n",
    "img_input = Input(shape=(1024,), name='img_input')\n",
    "x = BatchNormalization()(img_input)\n",
    "x = Dropout(0.2)(x)\n",
    "x = Dense(1024, activation='relu', name= 'fc-1')(x) # dense 1\n",
    "x = Dropout(0.5)(x)\n",
    "x = Dense(512,activation='relu')(x) #dense layer 2\n",
    "x = Dropout(0.5)(x)\n",
    "out = Dense(58, activation = 'softmax', name = 'out_layer')(x)\n",
    "\n",
    "# Base Mobilenet   Model\n",
    "\n",
    "Beu_model = Model(inputs=img_input, outputs=out)\n",
    "\n",
    "Beu_model.compile(loss='categorical_crossentropy', optimizer='adam', metrics=['accuracy'])  \n",
    "Beu_model.summary()"
   ]
  },
  {
   "cell_type": "code",
   "execution_count": 20,
   "metadata": {},
   "outputs": [],
   "source": [
    "def NYRS_gen(X, y, batch_size):\n",
    "    \n",
    "    n_batches = math.floor(len(X) / batch_size)\n",
    "    \n",
    "    while True: \n",
    "        X,y = shuffle(X,y) # Shuffle the index.\n",
    "        \n",
    "        for i in range(n_batches):\n",
    "            \n",
    "            X_batch = X[i*batch_size:(i+1)*batch_size]\n",
    "            y_batch = y[i*batch_size:(i+1)*batch_size]\n",
    "            \n",
    "            yield X_batch, y_batch"
   ]
  },
  {
   "cell_type": "code",
   "execution_count": 22,
   "metadata": {},
   "outputs": [
    {
     "name": "stdout",
     "output_type": "stream",
     "text": [
      "Epoch 1/10\n",
      "8955/8955 [==============================] - 67s 8ms/step - loss: 1.3934 - acc: 0.5702 - val_loss: 1.2083 - val_acc: 0.6213\n",
      "Epoch 2/10\n",
      "8955/8955 [==============================] - 67s 8ms/step - loss: 1.3790 - acc: 0.5737 - val_loss: 1.2202 - val_acc: 0.6226\n",
      "Epoch 3/10\n",
      "8955/8955 [==============================] - 66s 7ms/step - loss: 1.3695 - acc: 0.5774 - val_loss: 1.2094 - val_acc: 0.6254\n",
      "Epoch 4/10\n",
      "8955/8955 [==============================] - 67s 7ms/step - loss: 1.3662 - acc: 0.5792 - val_loss: 1.2227 - val_acc: 0.6246\n",
      "Epoch 5/10\n",
      "8955/8955 [==============================] - 66s 7ms/step - loss: 1.3546 - acc: 0.5835 - val_loss: 1.2196 - val_acc: 0.6257\n",
      "Epoch 6/10\n",
      "8955/8955 [==============================] - 66s 7ms/step - loss: 1.3521 - acc: 0.5854 - val_loss: 1.2238 - val_acc: 0.6230\n",
      "Epoch 7/10\n",
      "8955/8955 [==============================] - 67s 8ms/step - loss: 1.3481 - acc: 0.5851 - val_loss: 1.2213 - val_acc: 0.6255\n",
      "Epoch 8/10\n",
      "1790/8955 [====>.........................] - ETA: 51s - loss: 1.3536 - acc: 0.5841"
     ]
    },
    {
     "ename": "KeyboardInterrupt",
     "evalue": "",
     "output_type": "error",
     "traceback": [
      "\u001b[0;31m---------------------------------------------------------------------------\u001b[0m",
      "\u001b[0;31mKeyboardInterrupt\u001b[0m                         Traceback (most recent call last)",
      "\u001b[0;32m<ipython-input-22-5e94d42ea3f0>\u001b[0m in \u001b[0;36m<module>\u001b[0;34m\u001b[0m\n\u001b[1;32m     21\u001b[0m                               \u001b[0msteps_per_epoch\u001b[0m\u001b[0;34m=\u001b[0m\u001b[0mn_steps\u001b[0m\u001b[0;34m,\u001b[0m\u001b[0;34m\u001b[0m\u001b[0;34m\u001b[0m\u001b[0m\n\u001b[1;32m     22\u001b[0m                               \u001b[0mvalidation_data\u001b[0m\u001b[0;34m=\u001b[0m\u001b[0;34m(\u001b[0m\u001b[0mX_val\u001b[0m\u001b[0;34m,\u001b[0m\u001b[0my_val\u001b[0m\u001b[0;34m)\u001b[0m\u001b[0;34m,\u001b[0m\u001b[0;34m\u001b[0m\u001b[0;34m\u001b[0m\u001b[0m\n\u001b[0;32m---> 23\u001b[0;31m                               verbose=True)\n\u001b[0m",
      "\u001b[0;32m~/anaconda3/envs/tf_gpu_1/lib/python3.6/site-packages/keras/legacy/interfaces.py\u001b[0m in \u001b[0;36mwrapper\u001b[0;34m(*args, **kwargs)\u001b[0m\n\u001b[1;32m     89\u001b[0m                 warnings.warn('Update your `' + object_name + '` call to the ' +\n\u001b[1;32m     90\u001b[0m                               'Keras 2 API: ' + signature, stacklevel=2)\n\u001b[0;32m---> 91\u001b[0;31m             \u001b[0;32mreturn\u001b[0m \u001b[0mfunc\u001b[0m\u001b[0;34m(\u001b[0m\u001b[0;34m*\u001b[0m\u001b[0margs\u001b[0m\u001b[0;34m,\u001b[0m \u001b[0;34m**\u001b[0m\u001b[0mkwargs\u001b[0m\u001b[0;34m)\u001b[0m\u001b[0;34m\u001b[0m\u001b[0;34m\u001b[0m\u001b[0m\n\u001b[0m\u001b[1;32m     92\u001b[0m         \u001b[0mwrapper\u001b[0m\u001b[0;34m.\u001b[0m\u001b[0m_original_function\u001b[0m \u001b[0;34m=\u001b[0m \u001b[0mfunc\u001b[0m\u001b[0;34m\u001b[0m\u001b[0;34m\u001b[0m\u001b[0m\n\u001b[1;32m     93\u001b[0m         \u001b[0;32mreturn\u001b[0m \u001b[0mwrapper\u001b[0m\u001b[0;34m\u001b[0m\u001b[0;34m\u001b[0m\u001b[0m\n",
      "\u001b[0;32m~/anaconda3/envs/tf_gpu_1/lib/python3.6/site-packages/keras/engine/training.py\u001b[0m in \u001b[0;36mfit_generator\u001b[0;34m(self, generator, steps_per_epoch, epochs, verbose, callbacks, validation_data, validation_steps, class_weight, max_queue_size, workers, use_multiprocessing, shuffle, initial_epoch)\u001b[0m\n\u001b[1;32m   1416\u001b[0m             \u001b[0muse_multiprocessing\u001b[0m\u001b[0;34m=\u001b[0m\u001b[0muse_multiprocessing\u001b[0m\u001b[0;34m,\u001b[0m\u001b[0;34m\u001b[0m\u001b[0;34m\u001b[0m\u001b[0m\n\u001b[1;32m   1417\u001b[0m             \u001b[0mshuffle\u001b[0m\u001b[0;34m=\u001b[0m\u001b[0mshuffle\u001b[0m\u001b[0;34m,\u001b[0m\u001b[0;34m\u001b[0m\u001b[0;34m\u001b[0m\u001b[0m\n\u001b[0;32m-> 1418\u001b[0;31m             initial_epoch=initial_epoch)\n\u001b[0m\u001b[1;32m   1419\u001b[0m \u001b[0;34m\u001b[0m\u001b[0m\n\u001b[1;32m   1420\u001b[0m     \u001b[0;34m@\u001b[0m\u001b[0minterfaces\u001b[0m\u001b[0;34m.\u001b[0m\u001b[0mlegacy_generator_methods_support\u001b[0m\u001b[0;34m\u001b[0m\u001b[0;34m\u001b[0m\u001b[0m\n",
      "\u001b[0;32m~/anaconda3/envs/tf_gpu_1/lib/python3.6/site-packages/keras/engine/training_generator.py\u001b[0m in \u001b[0;36mfit_generator\u001b[0;34m(model, generator, steps_per_epoch, epochs, verbose, callbacks, validation_data, validation_steps, class_weight, max_queue_size, workers, use_multiprocessing, shuffle, initial_epoch)\u001b[0m\n\u001b[1;32m    179\u001b[0m             \u001b[0mbatch_index\u001b[0m \u001b[0;34m=\u001b[0m \u001b[0;36m0\u001b[0m\u001b[0;34m\u001b[0m\u001b[0;34m\u001b[0m\u001b[0m\n\u001b[1;32m    180\u001b[0m             \u001b[0;32mwhile\u001b[0m \u001b[0msteps_done\u001b[0m \u001b[0;34m<\u001b[0m \u001b[0msteps_per_epoch\u001b[0m\u001b[0;34m:\u001b[0m\u001b[0;34m\u001b[0m\u001b[0;34m\u001b[0m\u001b[0m\n\u001b[0;32m--> 181\u001b[0;31m                 \u001b[0mgenerator_output\u001b[0m \u001b[0;34m=\u001b[0m \u001b[0mnext\u001b[0m\u001b[0;34m(\u001b[0m\u001b[0moutput_generator\u001b[0m\u001b[0;34m)\u001b[0m\u001b[0;34m\u001b[0m\u001b[0;34m\u001b[0m\u001b[0m\n\u001b[0m\u001b[1;32m    182\u001b[0m \u001b[0;34m\u001b[0m\u001b[0m\n\u001b[1;32m    183\u001b[0m                 \u001b[0;32mif\u001b[0m \u001b[0;32mnot\u001b[0m \u001b[0mhasattr\u001b[0m\u001b[0;34m(\u001b[0m\u001b[0mgenerator_output\u001b[0m\u001b[0;34m,\u001b[0m \u001b[0;34m'__len__'\u001b[0m\u001b[0;34m)\u001b[0m\u001b[0;34m:\u001b[0m\u001b[0;34m\u001b[0m\u001b[0;34m\u001b[0m\u001b[0m\n",
      "\u001b[0;32m~/anaconda3/envs/tf_gpu_1/lib/python3.6/site-packages/keras/utils/data_utils.py\u001b[0m in \u001b[0;36mget\u001b[0;34m(self)\u001b[0m\n\u001b[1;32m    683\u001b[0m         \u001b[0;32mtry\u001b[0m\u001b[0;34m:\u001b[0m\u001b[0;34m\u001b[0m\u001b[0;34m\u001b[0m\u001b[0m\n\u001b[1;32m    684\u001b[0m             \u001b[0;32mwhile\u001b[0m \u001b[0mself\u001b[0m\u001b[0;34m.\u001b[0m\u001b[0mis_running\u001b[0m\u001b[0;34m(\u001b[0m\u001b[0;34m)\u001b[0m\u001b[0;34m:\u001b[0m\u001b[0;34m\u001b[0m\u001b[0;34m\u001b[0m\u001b[0m\n\u001b[0;32m--> 685\u001b[0;31m                 \u001b[0minputs\u001b[0m \u001b[0;34m=\u001b[0m \u001b[0mself\u001b[0m\u001b[0;34m.\u001b[0m\u001b[0mqueue\u001b[0m\u001b[0;34m.\u001b[0m\u001b[0mget\u001b[0m\u001b[0;34m(\u001b[0m\u001b[0mblock\u001b[0m\u001b[0;34m=\u001b[0m\u001b[0;32mTrue\u001b[0m\u001b[0;34m)\u001b[0m\u001b[0;34m.\u001b[0m\u001b[0mget\u001b[0m\u001b[0;34m(\u001b[0m\u001b[0;34m)\u001b[0m\u001b[0;34m\u001b[0m\u001b[0;34m\u001b[0m\u001b[0m\n\u001b[0m\u001b[1;32m    686\u001b[0m                 \u001b[0mself\u001b[0m\u001b[0;34m.\u001b[0m\u001b[0mqueue\u001b[0m\u001b[0;34m.\u001b[0m\u001b[0mtask_done\u001b[0m\u001b[0;34m(\u001b[0m\u001b[0;34m)\u001b[0m\u001b[0;34m\u001b[0m\u001b[0;34m\u001b[0m\u001b[0m\n\u001b[1;32m    687\u001b[0m                 \u001b[0;32mif\u001b[0m \u001b[0minputs\u001b[0m \u001b[0;32mis\u001b[0m \u001b[0;32mnot\u001b[0m \u001b[0;32mNone\u001b[0m\u001b[0;34m:\u001b[0m\u001b[0;34m\u001b[0m\u001b[0;34m\u001b[0m\u001b[0m\n",
      "\u001b[0;32m~/anaconda3/envs/tf_gpu_1/lib/python3.6/multiprocessing/pool.py\u001b[0m in \u001b[0;36mget\u001b[0;34m(self, timeout)\u001b[0m\n\u001b[1;32m    636\u001b[0m \u001b[0;34m\u001b[0m\u001b[0m\n\u001b[1;32m    637\u001b[0m     \u001b[0;32mdef\u001b[0m \u001b[0mget\u001b[0m\u001b[0;34m(\u001b[0m\u001b[0mself\u001b[0m\u001b[0;34m,\u001b[0m \u001b[0mtimeout\u001b[0m\u001b[0;34m=\u001b[0m\u001b[0;32mNone\u001b[0m\u001b[0;34m)\u001b[0m\u001b[0;34m:\u001b[0m\u001b[0;34m\u001b[0m\u001b[0;34m\u001b[0m\u001b[0m\n\u001b[0;32m--> 638\u001b[0;31m         \u001b[0mself\u001b[0m\u001b[0;34m.\u001b[0m\u001b[0mwait\u001b[0m\u001b[0;34m(\u001b[0m\u001b[0mtimeout\u001b[0m\u001b[0;34m)\u001b[0m\u001b[0;34m\u001b[0m\u001b[0;34m\u001b[0m\u001b[0m\n\u001b[0m\u001b[1;32m    639\u001b[0m         \u001b[0;32mif\u001b[0m \u001b[0;32mnot\u001b[0m \u001b[0mself\u001b[0m\u001b[0;34m.\u001b[0m\u001b[0mready\u001b[0m\u001b[0;34m(\u001b[0m\u001b[0;34m)\u001b[0m\u001b[0;34m:\u001b[0m\u001b[0;34m\u001b[0m\u001b[0;34m\u001b[0m\u001b[0m\n\u001b[1;32m    640\u001b[0m             \u001b[0;32mraise\u001b[0m \u001b[0mTimeoutError\u001b[0m\u001b[0;34m\u001b[0m\u001b[0;34m\u001b[0m\u001b[0m\n",
      "\u001b[0;32m~/anaconda3/envs/tf_gpu_1/lib/python3.6/multiprocessing/pool.py\u001b[0m in \u001b[0;36mwait\u001b[0;34m(self, timeout)\u001b[0m\n\u001b[1;32m    633\u001b[0m \u001b[0;34m\u001b[0m\u001b[0m\n\u001b[1;32m    634\u001b[0m     \u001b[0;32mdef\u001b[0m \u001b[0mwait\u001b[0m\u001b[0;34m(\u001b[0m\u001b[0mself\u001b[0m\u001b[0;34m,\u001b[0m \u001b[0mtimeout\u001b[0m\u001b[0;34m=\u001b[0m\u001b[0;32mNone\u001b[0m\u001b[0;34m)\u001b[0m\u001b[0;34m:\u001b[0m\u001b[0;34m\u001b[0m\u001b[0;34m\u001b[0m\u001b[0m\n\u001b[0;32m--> 635\u001b[0;31m         \u001b[0mself\u001b[0m\u001b[0;34m.\u001b[0m\u001b[0m_event\u001b[0m\u001b[0;34m.\u001b[0m\u001b[0mwait\u001b[0m\u001b[0;34m(\u001b[0m\u001b[0mtimeout\u001b[0m\u001b[0;34m)\u001b[0m\u001b[0;34m\u001b[0m\u001b[0;34m\u001b[0m\u001b[0m\n\u001b[0m\u001b[1;32m    636\u001b[0m \u001b[0;34m\u001b[0m\u001b[0m\n\u001b[1;32m    637\u001b[0m     \u001b[0;32mdef\u001b[0m \u001b[0mget\u001b[0m\u001b[0;34m(\u001b[0m\u001b[0mself\u001b[0m\u001b[0;34m,\u001b[0m \u001b[0mtimeout\u001b[0m\u001b[0;34m=\u001b[0m\u001b[0;32mNone\u001b[0m\u001b[0;34m)\u001b[0m\u001b[0;34m:\u001b[0m\u001b[0;34m\u001b[0m\u001b[0;34m\u001b[0m\u001b[0m\n",
      "\u001b[0;32m~/anaconda3/envs/tf_gpu_1/lib/python3.6/threading.py\u001b[0m in \u001b[0;36mwait\u001b[0;34m(self, timeout)\u001b[0m\n\u001b[1;32m    549\u001b[0m             \u001b[0msignaled\u001b[0m \u001b[0;34m=\u001b[0m \u001b[0mself\u001b[0m\u001b[0;34m.\u001b[0m\u001b[0m_flag\u001b[0m\u001b[0;34m\u001b[0m\u001b[0;34m\u001b[0m\u001b[0m\n\u001b[1;32m    550\u001b[0m             \u001b[0;32mif\u001b[0m \u001b[0;32mnot\u001b[0m \u001b[0msignaled\u001b[0m\u001b[0;34m:\u001b[0m\u001b[0;34m\u001b[0m\u001b[0;34m\u001b[0m\u001b[0m\n\u001b[0;32m--> 551\u001b[0;31m                 \u001b[0msignaled\u001b[0m \u001b[0;34m=\u001b[0m \u001b[0mself\u001b[0m\u001b[0;34m.\u001b[0m\u001b[0m_cond\u001b[0m\u001b[0;34m.\u001b[0m\u001b[0mwait\u001b[0m\u001b[0;34m(\u001b[0m\u001b[0mtimeout\u001b[0m\u001b[0;34m)\u001b[0m\u001b[0;34m\u001b[0m\u001b[0;34m\u001b[0m\u001b[0m\n\u001b[0m\u001b[1;32m    552\u001b[0m             \u001b[0;32mreturn\u001b[0m \u001b[0msignaled\u001b[0m\u001b[0;34m\u001b[0m\u001b[0;34m\u001b[0m\u001b[0m\n\u001b[1;32m    553\u001b[0m \u001b[0;34m\u001b[0m\u001b[0m\n",
      "\u001b[0;32m~/anaconda3/envs/tf_gpu_1/lib/python3.6/threading.py\u001b[0m in \u001b[0;36mwait\u001b[0;34m(self, timeout)\u001b[0m\n\u001b[1;32m    293\u001b[0m         \u001b[0;32mtry\u001b[0m\u001b[0;34m:\u001b[0m    \u001b[0;31m# restore state no matter what (e.g., KeyboardInterrupt)\u001b[0m\u001b[0;34m\u001b[0m\u001b[0;34m\u001b[0m\u001b[0m\n\u001b[1;32m    294\u001b[0m             \u001b[0;32mif\u001b[0m \u001b[0mtimeout\u001b[0m \u001b[0;32mis\u001b[0m \u001b[0;32mNone\u001b[0m\u001b[0;34m:\u001b[0m\u001b[0;34m\u001b[0m\u001b[0;34m\u001b[0m\u001b[0m\n\u001b[0;32m--> 295\u001b[0;31m                 \u001b[0mwaiter\u001b[0m\u001b[0;34m.\u001b[0m\u001b[0macquire\u001b[0m\u001b[0;34m(\u001b[0m\u001b[0;34m)\u001b[0m\u001b[0;34m\u001b[0m\u001b[0;34m\u001b[0m\u001b[0m\n\u001b[0m\u001b[1;32m    296\u001b[0m                 \u001b[0mgotit\u001b[0m \u001b[0;34m=\u001b[0m \u001b[0;32mTrue\u001b[0m\u001b[0;34m\u001b[0m\u001b[0;34m\u001b[0m\u001b[0m\n\u001b[1;32m    297\u001b[0m             \u001b[0;32melse\u001b[0m\u001b[0;34m:\u001b[0m\u001b[0;34m\u001b[0m\u001b[0;34m\u001b[0m\u001b[0m\n",
      "\u001b[0;31mKeyboardInterrupt\u001b[0m: "
     ]
    }
   ],
   "source": [
    "batch_size = 32\n",
    "import math\n",
    "\n",
    "N = len(X_IMG_BEU_TRAIN)\n",
    "\n",
    "X_IMG_BEU_TRAIN, beu_targets = shuffle(X_IMG_BEU_TRAIN, beu_targets)\n",
    "\n",
    "N_train = int(0.8*N)\n",
    "\n",
    "X_train = X_IMG_BEU_TRAIN[:N_train]\n",
    "y_train = beu_targets[:N_train]\n",
    "\n",
    "X_val = X_IMG_BEU_TRAIN[N_train:]\n",
    "y_val = beu_targets[N_train:]\n",
    "\n",
    "n_steps = len(X_IMG_BEU_TRAIN) // batch_size\n",
    "\n",
    "batch_gen = NYRS_gen(X_train, y_train, 32)\n",
    "\n",
    "history = Beu_model.fit_generator(batch_gen, epochs=10, \n",
    "                              steps_per_epoch=n_steps, \n",
    "                              validation_data=(X_val,y_val),\n",
    "                              verbose=True)"
   ]
  },
  {
   "cell_type": "code",
   "execution_count": null,
   "metadata": {},
   "outputs": [],
   "source": []
  },
  {
   "cell_type": "markdown",
   "metadata": {},
   "source": [
    "## Extract for test set"
   ]
  },
  {
   "cell_type": "code",
   "execution_count": 23,
   "metadata": {},
   "outputs": [],
   "source": [
    "# update file paths accordingly in train_df\n",
    "test_df = test_data.copy()\n",
    "\n",
    "def update_test_file_path(inp):\n",
    "\n",
    "    path_segs = inp.split('/')\n",
    "    \n",
    "    path_map = {'beauty_image':'Beauty', 'fashion_image':'Fashion', 'mobile_image':'Mobile'}\n",
    "    base_path = 'Test/' + path_map[path_segs[0]]\n",
    "    rel_path = path_segs[1]\n",
    "    \n",
    "    rel_segs = rel_path.split('.')\n",
    "    if len(rel_segs) == 1:\n",
    "        rel_path = rel_path + '.jpg'\n",
    "        \n",
    "    return base_path + '/'  + rel_path\n",
    "\n",
    "test_df['new_path'] = test_df.loc[:,'image_path'].apply(lambda x: update_test_file_path(x))\n",
    "test_df['meta_cat'] = test_df.loc[:,'image_path'].apply(lambda x: x.split('/')[0])"
   ]
  },
  {
   "cell_type": "code",
   "execution_count": 24,
   "metadata": {},
   "outputs": [
    {
     "data": {
      "text/plain": [
       "(76545, 5)"
      ]
     },
     "execution_count": 24,
     "metadata": {},
     "output_type": "execute_result"
    }
   ],
   "source": [
    "# Lood data for mobile categories (CHANGE here for other categories)\n",
    "test_byCat = test_df.groupby('meta_cat')\n",
    "cur_cat = 'beauty_image'\n",
    "cat_test = test_byCat.get_group(cur_cat)\n",
    "cat_test.shape"
   ]
  },
  {
   "cell_type": "code",
   "execution_count": 25,
   "metadata": {},
   "outputs": [],
   "source": [
    "datagen_test = ImageDataGenerator(rescale=1. / 255)\n",
    "base_dir = '/mnt/disks/NDSC'"
   ]
  },
  {
   "cell_type": "code",
   "execution_count": 26,
   "metadata": {},
   "outputs": [
    {
     "name": "stdout",
     "output_type": "stream",
     "text": [
      "Found 76545 validated image filenames.\n"
     ]
    }
   ],
   "source": [
    "# Generator-test\n",
    "batch_size = 50\n",
    "generator_test = datagen_test.flow_from_dataframe(\n",
    "        dataframe=cat_test,\n",
    "        directory=base_dir,\n",
    "        x_col=\"new_path\",\n",
    "        y_col= None,\n",
    "        target_size=(img_width, img_height),\n",
    "        batch_size=batch_size,\n",
    "        seed=42,\n",
    "        class_mode=None,\n",
    "        shuffle=False)"
   ]
  },
  {
   "cell_type": "code",
   "execution_count": 27,
   "metadata": {},
   "outputs": [
    {
     "name": "stdout",
     "output_type": "stream",
     "text": [
      "1530/1530 [==============================] - 1798s 1s/step\n"
     ]
    }
   ],
   "source": [
    "# Generate features for  test samples\n",
    "num_samples = generator_test.n\n",
    "generator_test.reset()\n",
    "\n",
    "bottleneck_features_beauty_test = model.predict_generator(\n",
    "        generator_test, num_samples // batch_size, verbose=1, use_multiprocessing=False)"
   ]
  },
  {
   "cell_type": "code",
   "execution_count": 28,
   "metadata": {},
   "outputs": [],
   "source": [
    "with open('df_TEST_Beauty_bottleneck_part_1.npy', 'wb') as f:\n",
    "    np.save(f, bottleneck_features_beauty_test)"
   ]
  },
  {
   "cell_type": "code",
   "execution_count": 15,
   "metadata": {},
   "outputs": [],
   "source": [
    "# The remaining part"
   ]
  },
  {
   "cell_type": "code",
   "execution_count": 29,
   "metadata": {},
   "outputs": [
    {
     "data": {
      "text/plain": [
       "45"
      ]
     },
     "execution_count": 29,
     "metadata": {},
     "output_type": "execute_result"
    }
   ],
   "source": [
    "N_rem = len(cat_test)-len(bottleneck_features_beauty_test)\n",
    "N_rem"
   ]
  },
  {
   "cell_type": "code",
   "execution_count": 30,
   "metadata": {},
   "outputs": [
    {
     "data": {
      "text/html": [
       "<div>\n",
       "<style scoped>\n",
       "    .dataframe tbody tr th:only-of-type {\n",
       "        vertical-align: middle;\n",
       "    }\n",
       "\n",
       "    .dataframe tbody tr th {\n",
       "        vertical-align: top;\n",
       "    }\n",
       "\n",
       "    .dataframe thead th {\n",
       "        text-align: right;\n",
       "    }\n",
       "</style>\n",
       "<table border=\"1\" class=\"dataframe\">\n",
       "  <thead>\n",
       "    <tr style=\"text-align: right;\">\n",
       "      <th></th>\n",
       "      <th>itemid</th>\n",
       "      <th>title</th>\n",
       "      <th>image_path</th>\n",
       "      <th>new_path</th>\n",
       "      <th>meta_cat</th>\n",
       "    </tr>\n",
       "  </thead>\n",
       "  <tbody>\n",
       "    <tr>\n",
       "      <th>76540</th>\n",
       "      <td>1826670507</td>\n",
       "      <td>lip cream wardah</td>\n",
       "      <td>beauty_image/5910b3379e4ad845a7be914b6cb02527.jpg</td>\n",
       "      <td>Test/Beauty/5910b3379e4ad845a7be914b6cb02527.jpg</td>\n",
       "      <td>beauty_image</td>\n",
       "    </tr>\n",
       "    <tr>\n",
       "      <th>76541</th>\n",
       "      <td>1832111687</td>\n",
       "      <td>la tulipe stay matte lip cream 08</td>\n",
       "      <td>beauty_image/e8022625c508a528dbd6c90869a0bc2a.jpg</td>\n",
       "      <td>Test/Beauty/e8022625c508a528dbd6c90869a0bc2a.jpg</td>\n",
       "      <td>beauty_image</td>\n",
       "    </tr>\n",
       "    <tr>\n",
       "      <th>76542</th>\n",
       "      <td>1832269907</td>\n",
       "      <td>etude house berry delicious color in liquid li...</td>\n",
       "      <td>beauty_image/3af512eb5a3c8b0632d787110bcb796b.jpg</td>\n",
       "      <td>Test/Beauty/3af512eb5a3c8b0632d787110bcb796b.jpg</td>\n",
       "      <td>beauty_image</td>\n",
       "    </tr>\n",
       "    <tr>\n",
       "      <th>76543</th>\n",
       "      <td>1832929407</td>\n",
       "      <td>goban matte liquid lipstick</td>\n",
       "      <td>beauty_image/e07d7b1400f51a09260040143b969306.jpg</td>\n",
       "      <td>Test/Beauty/e07d7b1400f51a09260040143b969306.jpg</td>\n",
       "      <td>beauty_image</td>\n",
       "    </tr>\n",
       "    <tr>\n",
       "      <th>76544</th>\n",
       "      <td>1833165562</td>\n",
       "      <td>nivea lip balm</td>\n",
       "      <td>beauty_image/d592906ac8f906bc36664e906f635619.jpg</td>\n",
       "      <td>Test/Beauty/d592906ac8f906bc36664e906f635619.jpg</td>\n",
       "      <td>beauty_image</td>\n",
       "    </tr>\n",
       "  </tbody>\n",
       "</table>\n",
       "</div>"
      ],
      "text/plain": [
       "           itemid                                              title  \\\n",
       "76540  1826670507                                   lip cream wardah   \n",
       "76541  1832111687                  la tulipe stay matte lip cream 08   \n",
       "76542  1832269907  etude house berry delicious color in liquid li...   \n",
       "76543  1832929407                        goban matte liquid lipstick   \n",
       "76544  1833165562                                     nivea lip balm   \n",
       "\n",
       "                                              image_path  \\\n",
       "76540  beauty_image/5910b3379e4ad845a7be914b6cb02527.jpg   \n",
       "76541  beauty_image/e8022625c508a528dbd6c90869a0bc2a.jpg   \n",
       "76542  beauty_image/3af512eb5a3c8b0632d787110bcb796b.jpg   \n",
       "76543  beauty_image/e07d7b1400f51a09260040143b969306.jpg   \n",
       "76544  beauty_image/d592906ac8f906bc36664e906f635619.jpg   \n",
       "\n",
       "                                               new_path      meta_cat  \n",
       "76540  Test/Beauty/5910b3379e4ad845a7be914b6cb02527.jpg  beauty_image  \n",
       "76541  Test/Beauty/e8022625c508a528dbd6c90869a0bc2a.jpg  beauty_image  \n",
       "76542  Test/Beauty/3af512eb5a3c8b0632d787110bcb796b.jpg  beauty_image  \n",
       "76543  Test/Beauty/e07d7b1400f51a09260040143b969306.jpg  beauty_image  \n",
       "76544  Test/Beauty/d592906ac8f906bc36664e906f635619.jpg  beauty_image  "
      ]
     },
     "execution_count": 30,
     "metadata": {},
     "output_type": "execute_result"
    }
   ],
   "source": [
    "test_beu_rem = cat_test.tail(N_rem)\n",
    "test_beu_rem.tail()"
   ]
  },
  {
   "cell_type": "code",
   "execution_count": 31,
   "metadata": {},
   "outputs": [
    {
     "name": "stdout",
     "output_type": "stream",
     "text": [
      "Found 45 validated image filenames.\n"
     ]
    }
   ],
   "source": [
    "# Generator-1\n",
    "datagen_test_rem = ImageDataGenerator(rescale=1. / 255)\n",
    "batch_size = 1\n",
    "test_generator_rem = datagen_test_rem.flow_from_dataframe(\n",
    "        dataframe=test_beu_rem,\n",
    "        directory=base_dir,\n",
    "        x_col=\"new_path\",\n",
    "        y_col= None,\n",
    "        target_size=(img_width, img_height),\n",
    "        batch_size=batch_size,\n",
    "        seed=42,\n",
    "        class_mode=None,\n",
    "        shuffle=False)"
   ]
  },
  {
   "cell_type": "code",
   "execution_count": 32,
   "metadata": {},
   "outputs": [
    {
     "name": "stdout",
     "output_type": "stream",
     "text": [
      "45/45 [==============================] - 1s 16ms/step\n"
     ]
    }
   ],
   "source": [
    "num_samples_rem = test_generator_rem.n\n",
    "test_generator_rem.reset()\n",
    "\n",
    "test_bottleneck_features_beauty_rem = model.predict_generator(\n",
    "        test_generator_rem, num_samples_rem // batch_size, verbose=1, use_multiprocessing=False)"
   ]
  },
  {
   "cell_type": "code",
   "execution_count": 33,
   "metadata": {},
   "outputs": [],
   "source": [
    "X_IMG_BEU_TEST = np.concatenate((bottleneck_features_beauty_test,test_bottleneck_features_beauty_rem), axis = 0)"
   ]
  },
  {
   "cell_type": "code",
   "execution_count": 34,
   "metadata": {},
   "outputs": [],
   "source": [
    "with open('X_IMG_BEU_TEST.npy', 'wb') as f:\n",
    "    np.save(f, X_IMG_BEU_TEST)"
   ]
  },
  {
   "cell_type": "code",
   "execution_count": null,
   "metadata": {},
   "outputs": [],
   "source": [
    "#### ----- ###"
   ]
  },
  {
   "cell_type": "code",
   "execution_count": null,
   "metadata": {},
   "outputs": [],
   "source": []
  },
  {
   "cell_type": "code",
   "execution_count": null,
   "metadata": {},
   "outputs": [],
   "source": []
  },
  {
   "cell_type": "code",
   "execution_count": null,
   "metadata": {},
   "outputs": [],
   "source": []
  }
 ],
 "metadata": {
  "kernelspec": {
   "display_name": "Python (tf_gpu_1)",
   "language": "python",
   "name": "tf_gpu_1"
  },
  "language_info": {
   "codemirror_mode": {
    "name": "ipython",
    "version": 3
   },
   "file_extension": ".py",
   "mimetype": "text/x-python",
   "name": "python",
   "nbconvert_exporter": "python",
   "pygments_lexer": "ipython3",
   "version": "3.6.8"
  }
 },
 "nbformat": 4,
 "nbformat_minor": 2
}
